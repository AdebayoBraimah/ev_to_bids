{
 "cells": [
  {
   "cell_type": "code",
   "execution_count": 1,
   "metadata": {},
   "outputs": [],
   "source": [
    "import os\n",
    "import sys\n",
    "import pandas as pd"
   ]
  },
  {
   "cell_type": "code",
   "execution_count": 2,
   "metadata": {},
   "outputs": [],
   "source": [
    "# Pandas see all rows/columns\n",
    "pd.set_option('display.max_columns', None)\n",
    "pd.set_option('display.max_rows', None)"
   ]
  },
  {
   "cell_type": "code",
   "execution_count": 3,
   "metadata": {},
   "outputs": [],
   "source": [
    "# File variables\n",
    "end = \"end_001_001_bart.txt\"\n",
    "inf = \"inflate_001_001_bart.txt\"\n",
    "iti = \"iti_001_001_bart.txt\"\n",
    "pop = \"pop_001_001_bart.txt\"\n",
    "pmp = \"pump_001_001_bart.txt\"\n",
    "thk = \"think_001_001_bart.txt\"\n",
    "wat = \"wait_001_001_bart.txt\"\n",
    "win = \"win_001_001_bart.txt\""
   ]
  },
  {
   "cell_type": "code",
   "execution_count": 21,
   "metadata": {},
   "outputs": [],
   "source": [
    "def fsl_stim_to_df(stim,trial_type=\"trial_type\"):\n",
    "    '''\n",
    "    Constructs dataframe from FSL custom 3-column stimulus text file.\n",
    "    \n",
    "    Arguments:\n",
    "        stim(file): FSL custom 3-column stimulus text file\n",
    "        trial_type: Trial type/label\n",
    "    Returns:\n",
    "        df(df): Dataframe\n",
    "    '''\n",
    "    df = pd.read_csv(stim,header=None,sep=\"\\t\")\n",
    "    df.columns = [\"ONSET\",\"DURATION\",\"INTENSITY\"]\n",
    "    df['TRIAL_TYPE'] = f\"{trial_type}\"\n",
    "    return df"
   ]
  },
  {
   "cell_type": "code",
   "execution_count": 5,
   "metadata": {
    "scrolled": true
   },
   "outputs": [],
   "source": [
    "df_iti = fsl_stim_to_df(iti,\"ITI\")\n",
    "df_pop = fsl_stim_to_df(pop,\"Pop\")"
   ]
  },
  {
   "cell_type": "code",
   "execution_count": 6,
   "metadata": {},
   "outputs": [],
   "source": [
    "# frames = [df_iti,df_pop]"
   ]
  },
  {
   "cell_type": "code",
   "execution_count": 7,
   "metadata": {},
   "outputs": [],
   "source": [
    "# df_1 = pd.concat(frames,ignore_index=False)\n",
    "# df_1.sort_values(by=['ONSET'])"
   ]
  },
  {
   "cell_type": "code",
   "execution_count": 8,
   "metadata": {},
   "outputs": [],
   "source": [
    "# args = [df_iti,df_pop]\n",
    "# frames = []\n",
    "# for arg in args:\n",
    "#     frames+=[arg]\n",
    "# df_1 = pd.concat(frames,ignore_index=False); df_1\n",
    "# # df_1.sort_values(by=['ONSET'])"
   ]
  },
  {
   "cell_type": "code",
   "execution_count": 9,
   "metadata": {},
   "outputs": [],
   "source": [
    "# df_1 = pd.concat(frames,ignore_index=False)\n",
    "# df_1.sort_values(by=['ONSET'])"
   ]
  },
  {
   "cell_type": "code",
   "execution_count": null,
   "metadata": {},
   "outputs": [],
   "source": []
  },
  {
   "cell_type": "code",
   "execution_count": null,
   "metadata": {},
   "outputs": [],
   "source": []
  },
  {
   "cell_type": "code",
   "execution_count": 20,
   "metadata": {},
   "outputs": [],
   "source": [
    "def create_bids_df(*args):\n",
    "    '''\n",
    "    Constructs sorted dataframe from two or more input dataframes.\n",
    "    The dataframes are sorted temporally by their 'ONSET' times.\n",
    "    \n",
    "    Arguments:\n",
    "        *args: Two or more dataframes\n",
    "    Returns:\n",
    "        df(df): Concatenated and sorted dataframe\n",
    "    '''\n",
    "    frames = []\n",
    "    for arg in args:\n",
    "        frames+=[arg]\n",
    "    df = pd.concat(frames,ignore_index=True)\n",
    "    return df.sort_values(by=['ONSET'])"
   ]
  },
  {
   "cell_type": "code",
   "execution_count": 7,
   "metadata": {
    "scrolled": true
   },
   "outputs": [],
   "source": [
    "# args = [df_iti,df_pop]\n",
    "# create_bids_df(*args)"
   ]
  },
  {
   "cell_type": "code",
   "execution_count": 8,
   "metadata": {},
   "outputs": [],
   "source": [
    "# kwargs = {\n",
    "#     \"End\":end,\n",
    "#     \"Inflate\":inf,\n",
    "#     \"Think\":thk,\n",
    "#     \"Pop\":pop,\n",
    "#     \"ITI\":iti,\n",
    "#     \"Win\":win\n",
    "# }"
   ]
  },
  {
   "cell_type": "code",
   "execution_count": 9,
   "metadata": {},
   "outputs": [],
   "source": [
    "# frames = []\n",
    "# for key,value in kwargs.items():\n",
    "#     tmp_frame = fsl_stim_to_df(stim=value,trial_type=key)\n",
    "#     frames.append(tmp_frame)"
   ]
  },
  {
   "cell_type": "code",
   "execution_count": 10,
   "metadata": {},
   "outputs": [],
   "source": [
    "# len(frames)"
   ]
  },
  {
   "cell_type": "code",
   "execution_count": 11,
   "metadata": {},
   "outputs": [],
   "source": [
    "# df = create_bids_df(*frames)"
   ]
  },
  {
   "cell_type": "code",
   "execution_count": 12,
   "metadata": {
    "scrolled": true
   },
   "outputs": [],
   "source": [
    "# df.drop([\"INTENSITY\"],axis=1)"
   ]
  },
  {
   "cell_type": "code",
   "execution_count": 22,
   "metadata": {},
   "outputs": [],
   "source": [
    "def create_bids_evs(**kwargs):\n",
    "    '''\n",
    "    Creates BIDS formatted EVs (explanitor variables) dataframe from\n",
    "    input set of keyword arguments (or dict) consisting of \n",
    "    trial_labels/names and their corresponding FSL stimulus file.\n",
    "    \n",
    "    Arguments:\n",
    "        **kwargs: Keyword paired arguments (or **dict)\n",
    "    Returns:\n",
    "        df(df): BIDS structured dataframe\n",
    "    '''\n",
    "    frames = []\n",
    "    for key,value in kwargs.items():\n",
    "        tmp_frame = fsl_stim_to_df(stim=value,trial_type=key)\n",
    "        frames.append(tmp_frame)\n",
    "    df = create_bids_df(*frames)\n",
    "    return df.drop([\"INTENSITY\"],axis=1)"
   ]
  },
  {
   "cell_type": "code",
   "execution_count": 14,
   "metadata": {},
   "outputs": [],
   "source": [
    "# create_bids_evs(**kwargs)"
   ]
  },
  {
   "cell_type": "code",
   "execution_count": 15,
   "metadata": {},
   "outputs": [],
   "source": [
    "list_1 = [\"End\",\"Pop\",\"ITI\"]\n",
    "list_2 = [end,pop,iti]"
   ]
  },
  {
   "cell_type": "code",
   "execution_count": 16,
   "metadata": {},
   "outputs": [],
   "source": [
    "# data = dict()\n",
    "# for key,value in zip(list_1,list_2):\n",
    "#     tmp_dict = {key:value}\n",
    "#     data.update(tmp_dict)"
   ]
  },
  {
   "cell_type": "code",
   "execution_count": 17,
   "metadata": {},
   "outputs": [],
   "source": [
    "# data"
   ]
  },
  {
   "cell_type": "code",
   "execution_count": 24,
   "metadata": {},
   "outputs": [],
   "source": [
    "def create_bids_tsv(name_args,file_args,out=\"bids.tsv\"):\n",
    "    '''\n",
    "    Constructs and writes output BIDS TSV file from input \n",
    "    FSL custom 3-column format stimulus files.\n",
    "    \n",
    "    Arguments:\n",
    "        name_args(list): Name input list of stimuli name/label\n",
    "        file_args(list): File input list of stimuli\n",
    "        out(file): Output file name\n",
    "    Returns:\n",
    "        df(df): Output BIDS dataframe\n",
    "        out(file): Output TSV\n",
    "    '''\n",
    "    # Check for equal length of input lists\n",
    "    if len(name_args) != len(file_args):\n",
    "        print(\"Input lists of stimulus and file names are of unequal length.\")\n",
    "        sys.exit(1)\n",
    "    \n",
    "    # Check output name\n",
    "    if not '.tsv' in out:\n",
    "        out = out + '.tsv'\n",
    "        \n",
    "    # Contruct data dictionary\n",
    "    data = dict()\n",
    "    for key,value in zip(name_args,file_args):\n",
    "        tmp_dict = {key:value}\n",
    "        data.update(tmp_dict)\n",
    "        \n",
    "    # Construct BIDS EVs (Explanitory Variables)\n",
    "    df = create_bids_evs(**data)\n",
    "    \n",
    "    # Write BIDS TSV to file\n",
    "    df.to_csv(out,sep=\"\\t\",index=False,header=True,mode=\"w\")\n",
    "    return df,out"
   ]
  },
  {
   "cell_type": "code",
   "execution_count": 25,
   "metadata": {},
   "outputs": [],
   "source": [
    "df = create_bids_tsv([\"End\",\"Pop\",\"ITI\"],[end,pop,iti])"
   ]
  },
  {
   "cell_type": "code",
   "execution_count": null,
   "metadata": {},
   "outputs": [],
   "source": [
    "df.to_csv()"
   ]
  }
 ],
 "metadata": {
  "kernelspec": {
   "display_name": "Python 3",
   "language": "python",
   "name": "python3"
  },
  "language_info": {
   "codemirror_mode": {
    "name": "ipython",
    "version": 3
   },
   "file_extension": ".py",
   "mimetype": "text/x-python",
   "name": "python",
   "nbconvert_exporter": "python",
   "pygments_lexer": "ipython3",
   "version": "3.6.8"
  }
 },
 "nbformat": 4,
 "nbformat_minor": 2
}
